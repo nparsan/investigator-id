{
 "cells": [
  {
   "cell_type": "code",
   "execution_count": 6,
   "metadata": {},
   "outputs": [],
   "source": [
    "# 📦 0. Shared constants — copied verbatim from /api/trial-meta/route.ts\n",
    "# --------------------------------------------------------------------\n",
    "import requests\n",
    "from typing import List, Dict\n",
    "\n",
    "CT_BASE_URL = (\n",
    "    \"https://clinicaltrials.gov/api/v2/studies\"\n",
    "    \"?fields=nctId,phase,fundedBy,overallStatus\"\n",
    ")\n",
    "MAX_BATCH = 100  # CT.gov caps at 100 IDs / request"
   ]
  },
  {
   "cell_type": "code",
   "execution_count": 14,
   "metadata": {},
   "outputs": [],
   "source": [
    "import requests\n",
    "from typing import List, Dict\n",
    "\n",
    "BASE = \"https://clinicaltrials.gov/api/v2/studies\"\n",
    "MAX_BATCH = 500      # Practically safe for URL length; adjust if needed.\n",
    "\n",
    "# Keep your original keys ➔ UI stays unchanged\n",
    "KEEP_FIELDS = (\n",
    "    \"protocolSection.identificationModule.nctId\"\n",
    "    \",protocolSection.identificationModule.briefTitle\"   #  ← NEW\n",
    "    \",protocolSection.designModule.phases\"\n",
    "    \",protocolSection.sponsorCollaboratorsModule.leadSponsor.class\"\n",
    "    \",protocolSection.statusModule.overallStatus\"\n",
    ")\n",
    "\n",
    "def fetch_trial_meta(nct_ids: List[str], max_batch: int = MAX_BATCH) -> List[Dict]:\n",
    "    \"\"\"Return [{nctId, title, phase, fundedBy, overallStatus}, …]\"\"\"\n",
    "    out: List[Dict] = []\n",
    "\n",
    "    for i in range(0, len(nct_ids), max_batch):\n",
    "        batch = nct_ids[i:i + max_batch]\n",
    "\n",
    "        params = {\n",
    "            \"filter.ids\": \",\".join(batch),\n",
    "            \"fields\": KEEP_FIELDS,\n",
    "            \"format\": \"json\",\n",
    "            \"pageSize\": len(batch),       # avoids pagination for small batches\n",
    "        }\n",
    "\n",
    "        r = requests.get(BASE, params=params, timeout=20,\n",
    "                         headers={\"accept\": \"application/json\"})\n",
    "        r.raise_for_status()\n",
    "\n",
    "        for s in r.json().get(\"studies\", []):\n",
    "            psec = s[\"protocolSection\"]\n",
    "            ident = psec[\"identificationModule\"]\n",
    "            design = psec.get(\"designModule\", {})\n",
    "            phases = design.get(\"phases\", []) or [\"NA\"]\n",
    "            # first digit 1‑4 or 'NA'\n",
    "            phase = next((d for d in \"1234\" if any(d in ph for ph in phases)), \"NA\")\n",
    "\n",
    "            out.append({\n",
    "                \"nctId\": ident[\"nctId\"],\n",
    "                \"title\": ident.get(\"briefTitle\"),          # ← NEW\n",
    "                \"phase\": phase,\n",
    "                \"fundedBy\": (\n",
    "                    psec.get(\"sponsorCollaboratorsModule\", {})\n",
    "                        .get(\"leadSponsor\", {})\n",
    "                        .get(\"class\")\n",
    "                ),\n",
    "                \"overallStatus\": psec.get(\"statusModule\", {}).get(\"overallStatus\"),\n",
    "            })\n",
    "\n",
    "    return out\n"
   ]
  },
  {
   "cell_type": "code",
   "execution_count": 15,
   "metadata": {},
   "outputs": [
    {
     "name": "stdout",
     "output_type": "stream",
     "text": [
      "[{'nctId': 'NCT01772004', 'title': 'Avelumab in Metastatic or Locally Advanced Solid Tumors (JAVELIN Solid Tumor)', 'phase': '1', 'fundedBy': 'INDUSTRY', 'overallStatus': 'COMPLETED'}, {'nctId': 'NCT04379570', 'title': 'Additional Support Program Via Text Messaging and Telephone-Based Counseling for Breast Cancer Patients Receiving Hormonal Therapy', 'phase': '3', 'fundedBy': 'OTHER', 'overallStatus': 'RECRUITING'}]\n"
     ]
    }
   ],
   "source": [
    "sample_ids = [\"NCT04379570\", \"NCT01772004\"]\n",
    "print(fetch_trial_meta(sample_ids))\n"
   ]
  },
  {
   "cell_type": "code",
   "execution_count": null,
   "metadata": {},
   "outputs": [],
   "source": []
  }
 ],
 "metadata": {
  "kernelspec": {
   "display_name": "development",
   "language": "python",
   "name": "python3"
  },
  "language_info": {
   "codemirror_mode": {
    "name": "ipython",
    "version": 3
   },
   "file_extension": ".py",
   "mimetype": "text/x-python",
   "name": "python",
   "nbconvert_exporter": "python",
   "pygments_lexer": "ipython3",
   "version": "3.12.5"
  }
 },
 "nbformat": 4,
 "nbformat_minor": 2
}
